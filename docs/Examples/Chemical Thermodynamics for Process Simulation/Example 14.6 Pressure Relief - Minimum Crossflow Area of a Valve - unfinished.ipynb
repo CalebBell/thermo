{
 "cells": [
  {
   "cell_type": "code",
   "execution_count": null,
   "id": "civilian-resident",
   "metadata": {},
   "outputs": [],
   "source": []
  }
 ],
 "metadata": {
  "language_info": {
   "name": "python"
  }
 },
 "nbformat": 4,
 "nbformat_minor": 5
}
