{
 "cells": [
  {
   "cell_type": "markdown",
   "id": "mounted-place",
   "metadata": {},
   "source": [
    "# Performing Large Numbers of Calculations with Thermo in Parallel"
   ]
  },
  {
   "cell_type": "markdown",
   "id": "confirmed-watson",
   "metadata": {},
   "source": [
    "A common request is to obtain a large number of properties from Thermo at once. Thermo is not NumPy - it cannot just automatically do all of the calculations in parallel. \n",
    "\n",
    "If you have a specific property that does not require phase equilibrium calculations to obtain, it is possible to\n",
    "use the `chemicals.numba` interface to in your own numba-accelerated code.\n",
    "https://chemicals.readthedocs.io/chemicals.numba.html\n",
    "\n",
    "For those cases where lots of flashes are needed, your best bet is to brute force it - use multiprocessing (and maybe a beefy machine) to obtain the results faster. The following code sample uses `joblib` to facilitate the calculation. Note that joblib won't show any benefits on sub-second calculations. Also note that the `threading` backend of joblib will not offer any performance improvements due to the CPython GIL."
   ]
  },
  {
   "cell_type": "code",
   "execution_count": 1,
   "id": "simplified-launch",
   "metadata": {},
   "outputs": [
    {
     "data": {
      "text/plain": [
       "0.4595970727935113"
      ]
     },
     "execution_count": 1,
     "metadata": {},
     "output_type": "execute_result"
    }
   ],
   "source": [
    "import numpy as np\n",
    "from thermo import *\n",
    "from chemicals import *\n",
    "\n",
    "constants, properties = ChemicalConstantsPackage.from_IDs(\n",
    "    ['methane', 'ethane', 'propane', 'isobutane', 'n-butane', 'isopentane', \n",
    "     'n-pentane', 'hexane', 'heptane', 'octane', 'nonane', 'nitrogen'])\n",
    "T, P = 200, 5e6\n",
    "zs = [.8, .08, .032, .00963, .0035, .0034, .0003, .0007, .0004, .00005, .00002, .07]\n",
    "eos_kwargs = dict(Tcs=constants.Tcs, Pcs=constants.Pcs, omegas=constants.omegas)\n",
    "gas = CEOSGas(SRKMIX, eos_kwargs, HeatCapacityGases=properties.HeatCapacityGases, T=T, P=P, zs=zs)\n",
    "liq = CEOSLiquid(SRKMIX, eos_kwargs, HeatCapacityGases=properties.HeatCapacityGases, T=T, P=P, zs=zs)\n",
    "# Set up a two-phase flash engine, ignoring kijs\n",
    "flasher = FlashVL(constants, properties, liquid=liq, gas=gas)\n",
    "\n",
    "# Set a composition - it could be modified in the inner loop as well\n",
    "# Do a test flash\n",
    "flasher.flash(T=T, P=P, zs=zs).gas_beta"
   ]
  },
  {
   "cell_type": "code",
   "execution_count": 2,
   "id": "dental-liberal",
   "metadata": {},
   "outputs": [],
   "source": [
    "def get_properties(T, P):\n",
    "    # This is the function that will be called in parallel\n",
    "    # note that Python floats are faster than numpy floats\n",
    "    res = flasher.flash(T=float(T), P=float(P), zs=zs)\n",
    "    return [res.rho_mass(), res.Cp_mass(), res.gas_beta]"
   ]
  },
  {
   "cell_type": "code",
   "execution_count": 3,
   "id": "opening-mainland",
   "metadata": {},
   "outputs": [],
   "source": [
    "from joblib import Parallel, delayed\n",
    "pts = 30\n",
    "Ts = np.linspace(200, 400, pts)\n",
    "Ps = np.linspace(1e5, 1e7, pts)\n",
    "Ts_grid, Ps_grid = np.meshgrid(Ts, Ps)\n",
    "# processed_data = Parallel(n_jobs=16)(delayed(get_properties)(T, P) for T, P in zip(Ts_grid.flat, Ps_grid.flat))"
   ]
  },
  {
   "cell_type": "code",
   "execution_count": 4,
   "id": "rental-george",
   "metadata": {},
   "outputs": [
    {
     "name": "stdout",
     "output_type": "stream",
     "text": [
      "12 s ± 0 ns per loop (mean ± std. dev. of 1 run, 1 loop each)\n"
     ]
    }
   ],
   "source": [
    "# Naive loop in Python\n",
    "%timeit -r 1 -n 1 processed_data = [get_properties(T, P) for T, P in zip(Ts_grid.flat, Ps_grid.flat)]"
   ]
  },
  {
   "cell_type": "code",
   "execution_count": 5,
   "id": "organic-forum",
   "metadata": {},
   "outputs": [
    {
     "name": "stdout",
     "output_type": "stream",
     "text": [
      "30.5 s ± 0 ns per loop (mean ± std. dev. of 1 run, 1 loop each)\n"
     ]
    }
   ],
   "source": [
    "# Use the threading feature of Joblib\n",
    "# Because the calculation is CPU-bound, the threads do not improve speed and Joblib's overhead slows down the calculation\n",
    "%timeit -r 1 -n 1 processed_data = Parallel(n_jobs=16, prefer=\"threads\")(delayed(get_properties)(T, P) for T, P in zip(Ts_grid.flat, Ps_grid.flat))"
   ]
  },
  {
   "cell_type": "code",
   "execution_count": 6,
   "id": "exciting-inspection",
   "metadata": {},
   "outputs": [
    {
     "name": "stdout",
     "output_type": "stream",
     "text": [
      "3.59 s ± 0 ns per loop (mean ± std. dev. of 1 run, 1 loop each)\n"
     ]
    }
   ],
   "source": [
    "# Use the multiprocessing feature of joblib\n",
    "# We were able to improve the speed by 5x\n",
    "%timeit -r 1 -n 1 processed_data = Parallel(n_jobs=16, batch_size=30)(delayed(get_properties)(T, P) for T, P in zip(Ts_grid.flat, Ps_grid.flat))"
   ]
  },
  {
   "cell_type": "code",
   "execution_count": 7,
   "id": "chubby-clock",
   "metadata": {},
   "outputs": [
    {
     "name": "stdout",
     "output_type": "stream",
     "text": [
      "3.98 s ± 0 ns per loop (mean ± std. dev. of 1 run, 1 loop each)\n"
     ]
    }
   ],
   "source": [
    "# For small multiprocessing jobs, the slowest job can cause a significant delay\n",
    "# For longer and larger jobs the full benefit of using all cores is shown better.\n",
    "%timeit -r 1 -n 1 processed_data = Parallel(n_jobs=8, batch_size=30)(delayed(get_properties)(T, P) for T, P in zip(Ts_grid.flat, Ps_grid.flat))"
   ]
  },
  {
   "cell_type": "code",
   "execution_count": 8,
   "id": "forced-entertainment",
   "metadata": {},
   "outputs": [],
   "source": [
    "# Joblib returns the data as a flat structure, but we can re-construct it into a grid\n",
    "processed_data = Parallel(n_jobs=16, batch_size=30)(delayed(get_properties)(T, P) for T, P in zip(Ts_grid.flat, Ps_grid.flat))\n",
    "phase_fractions = np.array([[processed_data[j*pts+i][2] for j in range(pts)] for i in range(pts)])"
   ]
  },
  {
   "cell_type": "code",
   "execution_count": 9,
   "id": "gothic-absorption",
   "metadata": {},
   "outputs": [
    {
     "data": {
      "image/png": "[encoded data removed]",
      "text/plain": [
       "<Figure size 640x480 with 2 Axes>"
      ]
     },
     "metadata": {},
     "output_type": "display_data"
    }
   ],
   "source": [
    "# Make a plot to show the results\n",
    "\n",
    "import matplotlib.pyplot as plt\n",
    "from matplotlib import ticker, cm\n",
    "from matplotlib.colors import LogNorm\n",
    "fig, ax = plt.subplots()\n",
    "color_map = cm.viridis\n",
    "im = ax.pcolormesh(Ts_grid, Ps_grid, phase_fractions.T, cmap=color_map)\n",
    "cbar = fig.colorbar(im, ax=ax)\n",
    "cbar.set_label('Gas phase fraction')\n",
    "\n",
    "ax.set_yscale('log')\n",
    "ax.set_xlabel('Temperature [K]')\n",
    "ax.set_ylabel('Pressure [Pa]')\n",
    "plt.show()"
   ]
  }
 ],
 "metadata": {
  "language_info": {
   "name": "python"
  }
 },
 "nbformat": 4,
 "nbformat_minor": 5
}
